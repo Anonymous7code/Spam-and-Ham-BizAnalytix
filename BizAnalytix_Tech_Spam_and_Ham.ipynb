{
  "nbformat": 4,
  "nbformat_minor": 0,
  "metadata": {
    "colab": {
      "name": "BizAnalytix Tech -- Spam and Ham",
      "provenance": []
    },
    "kernelspec": {
      "name": "python3",
      "display_name": "Python 3"
    },
    "language_info": {
      "name": "python"
    },
    "accelerator": "GPU"
  },
  "cells": [
    {
      "cell_type": "markdown",
      "source": [
        "This is a Assignment project by Sajal Tiwari for BizAnalytix Internship through Internshala"
      ],
      "metadata": {
        "id": "J8Ce6REYrgU1"
      }
    },
    {
      "cell_type": "markdown",
      "source": [
        "# Installing and Importing Libraries"
      ],
      "metadata": {
        "id": "ubP35ihpqphM"
      }
    },
    {
      "cell_type": "code",
      "execution_count": 1,
      "metadata": {
        "id": "wAET8BzXiyVS",
        "colab": {
          "base_uri": "https://localhost:8080/"
        },
        "outputId": "5a93af10-6929-4188-9cd8-a9997c006aa7"
      },
      "outputs": [
        {
          "output_type": "stream",
          "name": "stdout",
          "text": [
            "Requirement already satisfied: joblib in /usr/local/lib/python3.7/dist-packages (1.1.0)\n"
          ]
        }
      ],
      "source": [
        "from os import makedirs, path, remove, rename, rmdir\n",
        "from tarfile import open as open_tar\n",
        "from urllib import request, parse\n",
        "from glob import glob\n",
        "from os import path\n",
        "from sklearn.model_selection import StratifiedShuffleSplit\n",
        "from re import sub\n",
        "from email import message_from_file\n",
        "import numpy as np\n",
        "from collections import defaultdict\n",
        "%pip install joblib\n",
        "from sklearn.metrics import classification_report\n",
        "from sklearn.pipeline import Pipeline\n",
        "from collections import defaultdict\n",
        "from sklearn.base import BaseEstimator, TransformerMixin\n",
        "from sklearn.pipeline import Pipeline\n",
        "from sklearn.model_selection import GridSearchCV\n",
        "from functools import partial\n",
        "from sklearn.metrics import accuracy_score,f1_score,precision_score,recall_score\n",
        "from sklearn.model_selection import cross_val_predict\n",
        "from sklearn.neighbors import KNeighborsClassifier"
      ]
    },
    {
      "cell_type": "markdown",
      "source": [
        "# Fetching data and structuring DIR || Loading Email"
      ],
      "metadata": {
        "id": "s8mmUsKkqyhM"
      }
    },
    {
      "cell_type": "code",
      "source": [
        "def download_corpus(data_dir:str='data'):\n",
        "    \n",
        "    \"\"\"\n",
        "        Function to fetch data and arrange it in proper manner\n",
        "        The Dir Structure should look like\n",
        "        \n",
        "                Data\n",
        "                |-- downloads\n",
        "                |   |--20021010_easy_ham.tar.bz2\n",
        "                |   |--20021010_spam.tar.bz2\n",
        "                |\n",
        "                |-- ham\n",
        "                |-- spam\n",
        "    \"\"\"\n",
        "\n",
        "    base_URL = \"https://spamassassin.apache.org\"\n",
        "    corpus_PATH = \"old/publiccorpus\"\n",
        "\n",
        "    files = {\n",
        "        '20021010_easy_ham.tar.bz2': 'ham',\n",
        "        '20021010_spam.tar.bz2': 'spam',\n",
        "    }\n",
        "\n",
        "    downloads_dir = path.join(data_dir, 'downloads')\n",
        "    ham_dir = path.join(data_dir, 'ham')\n",
        "    spam_dir = path.join(data_dir, 'spam')\n",
        "\n",
        "    makedirs(downloads_dir, exist_ok=True)\n",
        "    makedirs(ham_dir, exist_ok=True)\n",
        "    makedirs(spam_dir, exist_ok=True)\n",
        "\n",
        "    for file, spam_or_ham in files.items():\n",
        "        # download file\n",
        "        url = parse.urljoin(base_URL, f'{corpus_PATH}/{file}')\n",
        "        tar_filename = path.join(downloads_dir, file)\n",
        "        request.urlretrieve(url, tar_filename)\n",
        "        \n",
        "        # list e-mails in compressed file\n",
        "        emails = []\n",
        "        with open_tar(tar_filename) as tar:\n",
        "            tar.extractall(path=downloads_dir)\n",
        "            for tarinfo in tar:\n",
        "                if len(tarinfo.name.split('/')) > 1:\n",
        "                    emails.append(tarinfo.name)\n",
        "        \n",
        "        # move e-mails to ham or spam dir\n",
        "        for email in emails:\n",
        "            directory, filename = email.split('/')\n",
        "            directory = path.join(downloads_dir, directory)\n",
        "            rename(path.join(directory, filename),\n",
        "                   path.join(data_dir, spam_or_ham, filename))\n",
        "        rmdir(directory)\n"
      ],
      "metadata": {
        "id": "55nTSjKgiznO"
      },
      "execution_count": 2,
      "outputs": []
    },
    {
      "cell_type": "code",
      "source": [
        "download_corpus()"
      ],
      "metadata": {
        "id": "IjS660Dxjswu"
      },
      "execution_count": 3,
      "outputs": []
    },
    {
      "cell_type": "code",
      "source": [
        "ham_dir = path.join('data', 'ham')\n",
        "spam_dir = path.join('data', 'spam')\n",
        "\n",
        "print('Total Hams  =======>', len(glob(f'{ham_dir}/*')))  \n",
        "print('Total Spams =======>', len(glob(f'{spam_dir}/*')))  "
      ],
      "metadata": {
        "colab": {
          "base_uri": "https://localhost:8080/"
        },
        "id": "1qLpFdrTjutl",
        "outputId": "125bc177-f66e-4bd8-cfff-569369813ee0"
      },
      "execution_count": 4,
      "outputs": [
        {
          "output_type": "stream",
          "name": "stdout",
          "text": [
            "Total Hams  =======> 2551\n",
            "Total Spams =======> 501\n"
          ]
        }
      ]
    },
    {
      "cell_type": "markdown",
      "source": [
        "## Loading mail as numpy array"
      ],
      "metadata": {
        "id": "tYYaDNhwrBUe"
      }
    },
    {
      "cell_type": "code",
      "source": [
        "class SimpleEmail:\n",
        "    '''\n",
        "    Structure the mail into simple string clean format\n",
        "    '''\n",
        "    def __init__(self, subject: str, body: str):\n",
        "        self.subject = subject\n",
        "        self.body = body\n",
        "\n",
        "    @property\n",
        "    def clean(self):\n",
        "        sanitizer = '[^A-Za-z]+'\n",
        "        clean = sub(sanitizer, ' ', f'{self.subject} {self.body}')\n",
        "        clean = clean.lower()\n",
        "        return sub('\\s+', ' ', clean)\n",
        "\n",
        "    def __str__(self):\n",
        "        subject = f'subject: {self.subject}'\n",
        "        body_first_line = self.body.split('\\n')[0]\n",
        "        body = f'body: {body_first_line}...'\n",
        "        return f'{subject}\\n{body}'\n",
        "    def __repr__(self):\n",
        "        return self.__str__()\n",
        "\n",
        "class EmailIterator:\n",
        "    def __init__(self, directory: str):\n",
        "        self._files = glob(f'{directory}/*')\n",
        "        self._pos = 0\n",
        "    \n",
        "    def __iter__(self):\n",
        "        self._pos = -1\n",
        "        return self\n",
        "    \n",
        "    def __next__(self):\n",
        "        if self._pos < len(self._files) - 1:\n",
        "            self._pos += 1\n",
        "            return self.parse_email(self._files[self._pos])\n",
        "        raise StopIteration()\n",
        "        \n",
        "    @staticmethod\n",
        "    def parse_email(filename: str) -> SimpleEmail:\n",
        "        with open(filename,\n",
        "                  encoding='utf-8',\n",
        "                  errors='replace') as fp:\n",
        "            message = message_from_file(fp)\n",
        "        \n",
        "        subject = None\n",
        "        for item in message.raw_items():\n",
        "            if item[0] == 'Subject':\n",
        "                subject = item[1]\n",
        "        \n",
        "        if message.is_multipart():\n",
        "            body = []\n",
        "            for b in message.get_payload():\n",
        "                body.append(str(b))\n",
        "            body = '\\n'.join(body)\n",
        "        else:\n",
        "            body = message.get_payload()\n",
        "        \n",
        "        return SimpleEmail(subject, body)"
      ],
      "metadata": {
        "id": "Pg07bhsOkyAQ"
      },
      "execution_count": 5,
      "outputs": []
    },
    {
      "cell_type": "code",
      "source": [
        "\"\"\"\n",
        "Data Preprocessing\n",
        "Converting all the emails to numpy array \n",
        "\"\"\"\n",
        "ham_emails = EmailIterator('data/ham')\n",
        "spam_emails = EmailIterator('data/spam')\n",
        "hams = np.array([email.clean for email in ham_emails])\n",
        "spams = np.array([email.clean for email in spam_emails])"
      ],
      "metadata": {
        "id": "h4isRF1BlhGz"
      },
      "execution_count": 6,
      "outputs": []
    },
    {
      "cell_type": "code",
      "source": [
        "print(\"Length of Hams is -- \",len(hams))\n",
        "print(\"Example of Hams is -- \",hams[1])"
      ],
      "metadata": {
        "colab": {
          "base_uri": "https://localhost:8080/"
        },
        "id": "ax45CHUqlhkD",
        "outputId": "982f86e5-0e39-440d-c05e-1cb5b300eea9"
      },
      "execution_count": 7,
      "outputs": [
        {
          "output_type": "stream",
          "name": "stdout",
          "text": [
            "Length of Hams is --  2551\n",
            "Example of Hams is --   razor users viewing my trust rating hey folks i know this question gets asked a lot but i haven t seen an answer lately any idea when a user will be able to view his own trust rating what are the plans for this will it be built into the client web based emailed to you nightly if you could share your brainstorming on the subject i would greatly appreciate it this sf net email is sponsored by osdn tired of that same old cell phone get a new here for free https www inphonic com r asp r sourceforge refcode vs razor users mailing list razor users lists sourceforge net https lists sourceforge net lists listinfo razor users \n"
          ]
        }
      ]
    },
    {
      "cell_type": "code",
      "source": [
        "print(\"Length of Spams is -- \",len(spams))\n",
        "print(\"Example of Spams is -- \",spams[1])"
      ],
      "metadata": {
        "colab": {
          "base_uri": "https://localhost:8080/"
        },
        "id": "lT7XfEbylmhE",
        "outputId": "741d0036-b2c2-457a-d4df-037bf61e58b7"
      },
      "execution_count": 8,
      "outputs": [
        {
          "output_type": "stream",
          "name": "stdout",
          "text": [
            "Length of Spams is --  501\n",
            "Example of Spams is --  shape up for summer now as seen on nbc cbs cnn and even oprah the health discovery that actually reverses aging while burning fat without dieting or exercise this proven discovery has even been reported on by the new england journal of medicine forget aging and dieting forever and it s guaranteed click here http web kuhleersparnis ch hgh index html would you like to lose weight while you sleep no dieting no hunger pains no cravings no strenuous exercise change your life forever guaranteed body fat loss improvement wrinkle reduction improvement energy level improvement muscle strength improvement sexual potency improvement emotional stability improvement memory improvement you are receiving this email as a subscriber to the opt in america mailing list to unsubscribe from future offers just click here mailto affiliateoptout btamail net cn subject off \n"
          ]
        }
      ]
    },
    {
      "cell_type": "markdown",
      "source": [
        "# Data Distribution"
      ],
      "metadata": {
        "id": "X_aBmfFXrNF2"
      }
    },
    {
      "cell_type": "code",
      "source": [
        "\"\"\"\n",
        "For Even distribution of data into training and test set \n",
        "Stratified Shuffel Split is used for even distribution of data into train and test set\n",
        "\n",
        "\"\"\"\n",
        "split = StratifiedShuffleSplit(n_splits=1, test_size=0.2, random_state=42)\n"
      ],
      "metadata": {
        "id": "q6-wpRefl7wj"
      },
      "execution_count": 9,
      "outputs": []
    },
    {
      "cell_type": "code",
      "source": [
        "emails = np.concatenate((hams, spams))"
      ],
      "metadata": {
        "id": "knB72PzFnCff"
      },
      "execution_count": 10,
      "outputs": []
    },
    {
      "cell_type": "code",
      "source": [
        "labels = np.concatenate((np.zeros(hams.size), np.ones(spams.size)))"
      ],
      "metadata": {
        "id": "HQ3mZshLnCX5"
      },
      "execution_count": 11,
      "outputs": []
    },
    {
      "cell_type": "code",
      "source": [
        "for train_index, test_index in split.split(emails, labels):\n",
        "    emails_train, labels_train = \\\n",
        "        emails[train_index], labels[train_index]\n",
        "    emails_test, labels_test = \\\n",
        "        emails[test_index], labels[test_index]"
      ],
      "metadata": {
        "id": "9TUD0FTlmkJd"
      },
      "execution_count": 12,
      "outputs": []
    },
    {
      "cell_type": "markdown",
      "source": [
        "### This will change the email string into sparse vector that indicates the presence or absence of each possible word."
      ],
      "metadata": {
        "id": "fSmGXHTAyG-h"
      }
    },
    {
      "cell_type": "code",
      "source": [
        "dictionary = defaultdict(int)\n",
        "for email in emails_train:\n",
        "    for word in email.split(' '):\n",
        "        dictionary[word] += 1"
      ],
      "metadata": {
        "id": "2R8dZTRTms3c"
      },
      "execution_count": 13,
      "outputs": []
    },
    {
      "cell_type": "code",
      "source": [
        "top = 1000\n",
        "descending_dictionary = sorted(dictionary.items(),\n",
        "                               key=lambda v: v[1],\n",
        "                               reverse=True)\n",
        "dictionary = [\n",
        "    word for (word, occur) in descending_dictionary\n",
        "    if len(word) > 1\n",
        "][:top]"
      ],
      "metadata": {
        "id": "fS8GgOLvpAx8"
      },
      "execution_count": 14,
      "outputs": []
    },
    {
      "cell_type": "code",
      "source": [
        "def encode_email(email: SimpleEmail,\n",
        "                 dictionary_: list,\n",
        "                 binary: bool = False) -> np.array:\n",
        "\n",
        "                 '''Encoding mail to vectors based on occurance and non occurance'''\n",
        "    encoded = np.zeros(dictionary_.size)\n",
        "    words = email.split(' ')\n",
        "    \n",
        "    for word in words:\n",
        "        index = np.where(dictionary_ == word)[0]\n",
        "        if index.size == 1:  # we ignore unknown words\n",
        "            if binary:\n",
        "                encoded[index[0]] = 1\n",
        "            else:\n",
        "                encoded[index[0]] += 1\n",
        "    return encoded"
      ],
      "metadata": {
        "id": "COGFXP_ApGAv"
      },
      "execution_count": 15,
      "outputs": []
    },
    {
      "cell_type": "code",
      "source": [
        "dictionary = np.array(dictionary)\n",
        "_encode_email = partial(encode_email, dictionary_=dictionary)\n",
        "encoded_train = np.array(list(map(_encode_email, emails_train)))\n",
        "encoded_test = np.array(list(map(_encode_email, emails_test)))"
      ],
      "metadata": {
        "id": "k-SGIRFnpP5i"
      },
      "execution_count": 16,
      "outputs": []
    },
    {
      "cell_type": "code",
      "source": [
        "## Deleting non required variables to prevent RAM crash due to exceeding limits\n",
        "del ham_emails,spam_emails,hams,spams,emails,labels,dictionary,descending_dictionary"
      ],
      "metadata": {
        "id": "M2eGB_efqyxA"
      },
      "execution_count": 17,
      "outputs": []
    },
    {
      "cell_type": "markdown",
      "source": [
        "# Training Model"
      ],
      "metadata": {
        "id": "MnvT-fZ7yuuv"
      }
    },
    {
      "cell_type": "code",
      "source": [
        "knn_clf = KNeighborsClassifier()"
      ],
      "metadata": {
        "id": "WchIQgzCpsDH"
      },
      "execution_count": 18,
      "outputs": []
    },
    {
      "cell_type": "code",
      "source": [
        "labels_pred = cross_val_predict(knn_clf,\n",
        "                                encoded_train,\n",
        "                                labels_train,\n",
        "                                cv=5)"
      ],
      "metadata": {
        "id": "JCm8ZEkwpt7H"
      },
      "execution_count": 19,
      "outputs": []
    },
    {
      "cell_type": "code",
      "source": [
        "print('accuracy:', accuracy_score(labels_train, labels_pred))"
      ],
      "metadata": {
        "colab": {
          "base_uri": "https://localhost:8080/"
        },
        "id": "Kjy5IZ_mpvfn",
        "outputId": "bdbec51d-9eef-4e22-b071-6a41e9ec8dcf"
      },
      "execution_count": 20,
      "outputs": [
        {
          "output_type": "stream",
          "name": "stdout",
          "text": [
            "accuracy: 0.956984842277755\n"
          ]
        }
      ]
    },
    {
      "cell_type": "code",
      "source": [
        "print('precision:', precision_score(labels_train, labels_pred))"
      ],
      "metadata": {
        "colab": {
          "base_uri": "https://localhost:8080/"
        },
        "id": "iP3BIwEqpyXH",
        "outputId": "b2fd9cc7-d205-43ea-ce58-25ae40e25451"
      },
      "execution_count": 21,
      "outputs": [
        {
          "output_type": "stream",
          "name": "stdout",
          "text": [
            "precision: 0.9539877300613497\n"
          ]
        }
      ]
    },
    {
      "cell_type": "code",
      "source": [
        "print('recall:', recall_score(labels_train, labels_pred))"
      ],
      "metadata": {
        "colab": {
          "base_uri": "https://localhost:8080/"
        },
        "id": "Xc5XNQ2LpzoY",
        "outputId": "140fa348-5a56-41a4-ca5c-fd68cbc973c7"
      },
      "execution_count": 22,
      "outputs": [
        {
          "output_type": "stream",
          "name": "stdout",
          "text": [
            "recall: 0.7755610972568578\n"
          ]
        }
      ]
    },
    {
      "cell_type": "code",
      "source": [
        "print('f1:', f1_score(labels_train, labels_pred))"
      ],
      "metadata": {
        "colab": {
          "base_uri": "https://localhost:8080/"
        },
        "id": "BkDhFUQlp0qH",
        "outputId": "ae7bfa93-6d1d-48c2-fe95-8b4997a2f78c"
      },
      "execution_count": 23,
      "outputs": [
        {
          "output_type": "stream",
          "name": "stdout",
          "text": [
            "f1: 0.8555708390646493\n"
          ]
        }
      ]
    },
    {
      "cell_type": "markdown",
      "source": [
        "### Using GridSearchCV to get optimal params"
      ],
      "metadata": {
        "id": "OW3HpnQ-yzWf"
      }
    },
    {
      "cell_type": "code",
      "source": [
        "params_grid = [{\n",
        "    'n_neighbors': [2, 5, 10],\n",
        "    'weights': ['uniform', 'distance'],\n",
        "    'algorithm': ['auto', 'ball_tree', 'kd_tree', 'brute'],\n",
        "    'metric': ['minkowski'],\n",
        "    'metric_params': [{'p': 2}, {'p': 3}, {'p': 4}]\n",
        "}]"
      ],
      "metadata": {
        "id": "sD8XfwRdqIgK"
      },
      "execution_count": 24,
      "outputs": []
    },
    {
      "cell_type": "code",
      "source": [
        "search = GridSearchCV(knn_clf, params_grid, n_jobs=6,\n",
        "                      scoring='recall', cv=5, verbose=10)"
      ],
      "metadata": {
        "id": "aEYyGXw0qK_a"
      },
      "execution_count": 25,
      "outputs": []
    },
    {
      "cell_type": "code",
      "source": [
        "search.fit(encoded_train, labels_train)"
      ],
      "metadata": {
        "colab": {
          "base_uri": "https://localhost:8080/"
        },
        "id": "EMhP0ektqPPa",
        "outputId": "873cd304-c753-465f-c72e-5ad62d2adb90"
      },
      "execution_count": 26,
      "outputs": [
        {
          "output_type": "stream",
          "name": "stdout",
          "text": [
            "Fitting 5 folds for each of 72 candidates, totalling 360 fits\n"
          ]
        },
        {
          "output_type": "stream",
          "name": "stderr",
          "text": [
            "/usr/local/lib/python3.7/dist-packages/sklearn/neighbors/_classification.py:198: SyntaxWarning: Parameter p is found in metric_params. The corresponding parameter from __init__ is ignored.\n",
            "  return self._fit(X, y)\n"
          ]
        },
        {
          "output_type": "execute_result",
          "data": {
            "text/plain": [
              "GridSearchCV(cv=5, estimator=KNeighborsClassifier(), n_jobs=6,\n",
              "             param_grid=[{'algorithm': ['auto', 'ball_tree', 'kd_tree',\n",
              "                                        'brute'],\n",
              "                          'metric': ['minkowski'],\n",
              "                          'metric_params': [{'p': 2}, {'p': 3}, {'p': 4}],\n",
              "                          'n_neighbors': [2, 5, 10],\n",
              "                          'weights': ['uniform', 'distance']}],\n",
              "             scoring='recall', verbose=10)"
            ]
          },
          "metadata": {},
          "execution_count": 26
        }
      ]
    },
    {
      "cell_type": "code",
      "source": [
        "print(\" Results from Grid Search \" )\n",
        "print(\"\\n The best estimator across ALL searched params:\\n\",search.best_estimator_)\n",
        "print(\"\\n The best score across ALL searched params:\\n\",search.best_score_)\n",
        "print(\"\\n The best parameters across ALL searched params:\\n\",search.best_params_)"
      ],
      "metadata": {
        "id": "9xVZGY_LLxFy",
        "colab": {
          "base_uri": "https://localhost:8080/"
        },
        "outputId": "05481fbd-ec70-4dc6-8983-ec33f020104e"
      },
      "execution_count": 27,
      "outputs": [
        {
          "output_type": "stream",
          "name": "stdout",
          "text": [
            " Results from Grid Search \n",
            "\n",
            " The best estimator across ALL searched params:\n",
            " KNeighborsClassifier(metric_params={'p': 2}, n_neighbors=2, weights='distance')\n",
            "\n",
            " The best score across ALL searched params:\n",
            " 0.9075925925925926\n",
            "\n",
            " The best parameters across ALL searched params:\n",
            " {'algorithm': 'auto', 'metric': 'minkowski', 'metric_params': {'p': 2}, 'n_neighbors': 2, 'weights': 'distance'}\n"
          ]
        }
      ]
    },
    {
      "cell_type": "code",
      "source": [
        "labels_pred = cross_val_predict(search.best_estimator_,\n",
        "                                encoded_train,\n",
        "                                labels_train,\n",
        "                                cv=5)\n",
        "print('Accuracy for best params is ======>>', accuracy_score(labels_train, labels_pred))\n",
        "print('Precision for best params is =====>>', precision_score(labels_train, labels_pred))\n",
        "print('Recall for best params is ========>>', recall_score(labels_train, labels_pred))\n",
        "print('f1 Score for best params is ======>>', f1_score(labels_train, labels_pred))\n"
      ],
      "metadata": {
        "colab": {
          "base_uri": "https://localhost:8080/"
        },
        "id": "Sy_gQcVLrOtD",
        "outputId": "e3b2704e-7c7a-4303-ad9c-ea276349e85b"
      },
      "execution_count": 28,
      "outputs": [
        {
          "output_type": "stream",
          "name": "stderr",
          "text": [
            "/usr/local/lib/python3.7/dist-packages/sklearn/neighbors/_classification.py:198: SyntaxWarning: Parameter p is found in metric_params. The corresponding parameter from __init__ is ignored.\n",
            "  return self._fit(X, y)\n",
            "/usr/local/lib/python3.7/dist-packages/sklearn/neighbors/_classification.py:198: SyntaxWarning: Parameter p is found in metric_params. The corresponding parameter from __init__ is ignored.\n",
            "  return self._fit(X, y)\n",
            "/usr/local/lib/python3.7/dist-packages/sklearn/neighbors/_classification.py:198: SyntaxWarning: Parameter p is found in metric_params. The corresponding parameter from __init__ is ignored.\n",
            "  return self._fit(X, y)\n",
            "/usr/local/lib/python3.7/dist-packages/sklearn/neighbors/_classification.py:198: SyntaxWarning: Parameter p is found in metric_params. The corresponding parameter from __init__ is ignored.\n",
            "  return self._fit(X, y)\n",
            "/usr/local/lib/python3.7/dist-packages/sklearn/neighbors/_classification.py:198: SyntaxWarning: Parameter p is found in metric_params. The corresponding parameter from __init__ is ignored.\n",
            "  return self._fit(X, y)\n"
          ]
        },
        {
          "output_type": "stream",
          "name": "stdout",
          "text": [
            "Accuracy for best params is ======>> 0.9746005735354363\n",
            "Precision for best params is =====>> 0.9357326478149101\n",
            "Recall for best params is ========>> 0.9077306733167082\n",
            "f1 Score for best params is ======>> 0.9215189873417721\n"
          ]
        }
      ]
    },
    {
      "cell_type": "code",
      "source": [
        "knn_clf = KNeighborsClassifier(algorithm='auto',p=2,\n",
        "                               n_neighbors=2,\n",
        "                               weights='distance')\n",
        "knn_clf.fit(encoded_train, labels_train)\n",
        "labels_pred = knn_clf.predict(encoded_test)\n",
        "print('accuracy:', accuracy_score(labels_test, labels_pred))\n",
        "# accuracy: 0.982896846606093\n",
        "print('precision:', precision_score(labels_test, labels_pred))\n",
        "# precision: 0.9666666666666667\n",
        "print('recall:', recall_score(labels_test, labels_pred))\n",
        "# recall: 0.9666666666666667\n",
        "print('f1:', f1_score(labels_test, labels_pred))\n",
        "# f1: 0.9666666666666667"
      ],
      "metadata": {
        "colab": {
          "base_uri": "https://localhost:8080/"
        },
        "id": "Zcf0E12Ouz1Z",
        "outputId": "7e582feb-9d34-4f25-94d9-48dfd1f80138"
      },
      "execution_count": 31,
      "outputs": [
        {
          "output_type": "stream",
          "name": "stdout",
          "text": [
            "accuracy: 0.9754500818330606\n",
            "precision: 0.9473684210526315\n",
            "recall: 0.9\n",
            "f1: 0.9230769230769231\n"
          ]
        }
      ]
    },
    {
      "cell_type": "markdown",
      "source": [
        "# Building Pipeline and automating all process of Encoding and Training"
      ],
      "metadata": {
        "id": "wnMNqy0DzAlg"
      }
    },
    {
      "cell_type": "code",
      "source": [
        "class MessageEncoder(BaseEstimator, TransformerMixin):\n",
        "    \n",
        "    def __init__(self, binary: bool = False, top: int = 1000):\n",
        "        self.dictionary_ = None\n",
        "        self.binary = binary\n",
        "        self.top = top\n",
        "    def fit(self, X, y=None):\n",
        "        dictionary = defaultdict(int)\n",
        "        \n",
        "        for email in X:\n",
        "            for word in email.split(' '):\n",
        "                dictionary[word] += 1\n",
        "        \n",
        "        descending_dictionary = sorted(dictionary.items(),\n",
        "                                       key=lambda v: v[1],\n",
        "                                       reverse=True)\n",
        "        \n",
        "        self.dictionary = np.array([\n",
        "            word for (word, occur) in descending_dictionary\n",
        "            if len(word) > 1\n",
        "        ][:self.top])\n",
        "        \n",
        "        return self\n",
        "    def transform(self, X):\n",
        "        return np.array(list(map(self.encode_message, X)))\n",
        "    def encode_message(self, message: str):\n",
        "        encoded = np.zeros(self.dictionary.size)\n",
        "        words = message.split(' ')\n",
        "        for word in words:\n",
        "            index = np.where(self.dictionary == word)[0]\n",
        "            if index.size == 1:  # we ignore unknown words\n",
        "                if self.binary:\n",
        "                    encoded[index[0]] = 1\n",
        "                else:\n",
        "                    encoded[index[0]] += 1\n",
        "        return encoded"
      ],
      "metadata": {
        "id": "88OOm6R8BxRR"
      },
      "execution_count": 32,
      "outputs": []
    },
    {
      "cell_type": "code",
      "source": [
        "encoder = MessageEncoder()\n",
        "encoder.fit(emails_train)\n",
        "encoded_emails_train = encoder.transform(emails_train)"
      ],
      "metadata": {
        "id": "7Qqr4tjLBzig"
      },
      "execution_count": 33,
      "outputs": []
    },
    {
      "cell_type": "code",
      "source": [
        "pipeline = Pipeline([\n",
        "    ('encode_messages', MessageEncoder()),\n",
        "    ('knn_clf', KNeighborsClassifier()),\n",
        "])"
      ],
      "metadata": {
        "id": "_KJJk3hXB09A"
      },
      "execution_count": 34,
      "outputs": []
    },
    {
      "cell_type": "code",
      "source": [
        "# Here knn_clf__algorithm = 'auto' and knn_clf__weights = distance are used to train model due to shortage of RAM\n",
        "# the model can be trained using below params if RAM availablity is High\n",
        "params_grid = [{\n",
        "    'encode_messages__binary': [True, False],\n",
        "    'encode_messages__top': [500, 1000],\n",
        "    'knn_clf__n_neighbors': [2, 5, 10],\n",
        "    'knn_clf__weights': ['uniform', 'distance'],\n",
        "    'knn_clf__algorithm': ['auto', 'ball_tree', 'kd_tree', 'brute'],\n",
        "}]\n",
        "\n",
        "pipe_search = GridSearchCV(pipeline, params_grid, n_jobs=1,\n",
        "                           scoring='recall', cv=5, verbose=2)\n",
        "pipe_search.fit(emails_train, labels_train)"
      ],
      "metadata": {
        "colab": {
          "base_uri": "https://localhost:8080/"
        },
        "id": "YqePgqEtB2jg",
        "outputId": "9e9607a2-c924-4e2d-a210-1512b640b2ec"
      },
      "execution_count": 35,
      "outputs": [
        {
          "output_type": "stream",
          "name": "stdout",
          "text": [
            "Fitting 5 folds for each of 12 candidates, totalling 60 fits\n",
            "[CV] END encode_messages__binary=True, encode_messages__top=500, knn_clf__algorithm=auto, knn_clf__n_neighbors=2, knn_clf__weights=distance; total time=  11.3s\n",
            "[CV] END encode_messages__binary=True, encode_messages__top=500, knn_clf__algorithm=auto, knn_clf__n_neighbors=2, knn_clf__weights=distance; total time=  10.8s\n",
            "[CV] END encode_messages__binary=True, encode_messages__top=500, knn_clf__algorithm=auto, knn_clf__n_neighbors=2, knn_clf__weights=distance; total time=  10.8s\n",
            "[CV] END encode_messages__binary=True, encode_messages__top=500, knn_clf__algorithm=auto, knn_clf__n_neighbors=2, knn_clf__weights=distance; total time=  10.9s\n",
            "[CV] END encode_messages__binary=True, encode_messages__top=500, knn_clf__algorithm=auto, knn_clf__n_neighbors=2, knn_clf__weights=distance; total time=  10.9s\n",
            "[CV] END encode_messages__binary=True, encode_messages__top=500, knn_clf__algorithm=auto, knn_clf__n_neighbors=5, knn_clf__weights=distance; total time=  10.9s\n",
            "[CV] END encode_messages__binary=True, encode_messages__top=500, knn_clf__algorithm=auto, knn_clf__n_neighbors=5, knn_clf__weights=distance; total time=  10.9s\n",
            "[CV] END encode_messages__binary=True, encode_messages__top=500, knn_clf__algorithm=auto, knn_clf__n_neighbors=5, knn_clf__weights=distance; total time=  10.9s\n",
            "[CV] END encode_messages__binary=True, encode_messages__top=500, knn_clf__algorithm=auto, knn_clf__n_neighbors=5, knn_clf__weights=distance; total time=  11.1s\n",
            "[CV] END encode_messages__binary=True, encode_messages__top=500, knn_clf__algorithm=auto, knn_clf__n_neighbors=5, knn_clf__weights=distance; total time=  10.9s\n",
            "[CV] END encode_messages__binary=True, encode_messages__top=500, knn_clf__algorithm=auto, knn_clf__n_neighbors=10, knn_clf__weights=distance; total time=  10.8s\n",
            "[CV] END encode_messages__binary=True, encode_messages__top=500, knn_clf__algorithm=auto, knn_clf__n_neighbors=10, knn_clf__weights=distance; total time=  10.9s\n",
            "[CV] END encode_messages__binary=True, encode_messages__top=500, knn_clf__algorithm=auto, knn_clf__n_neighbors=10, knn_clf__weights=distance; total time=  11.4s\n",
            "[CV] END encode_messages__binary=True, encode_messages__top=500, knn_clf__algorithm=auto, knn_clf__n_neighbors=10, knn_clf__weights=distance; total time=  11.0s\n",
            "[CV] END encode_messages__binary=True, encode_messages__top=500, knn_clf__algorithm=auto, knn_clf__n_neighbors=10, knn_clf__weights=distance; total time=  10.9s\n",
            "[CV] END encode_messages__binary=True, encode_messages__top=1000, knn_clf__algorithm=auto, knn_clf__n_neighbors=2, knn_clf__weights=distance; total time=  20.0s\n",
            "[CV] END encode_messages__binary=True, encode_messages__top=1000, knn_clf__algorithm=auto, knn_clf__n_neighbors=2, knn_clf__weights=distance; total time=  18.9s\n",
            "[CV] END encode_messages__binary=True, encode_messages__top=1000, knn_clf__algorithm=auto, knn_clf__n_neighbors=2, knn_clf__weights=distance; total time=  18.4s\n",
            "[CV] END encode_messages__binary=True, encode_messages__top=1000, knn_clf__algorithm=auto, knn_clf__n_neighbors=2, knn_clf__weights=distance; total time=  18.5s\n",
            "[CV] END encode_messages__binary=True, encode_messages__top=1000, knn_clf__algorithm=auto, knn_clf__n_neighbors=2, knn_clf__weights=distance; total time=  18.2s\n",
            "[CV] END encode_messages__binary=True, encode_messages__top=1000, knn_clf__algorithm=auto, knn_clf__n_neighbors=5, knn_clf__weights=distance; total time=  18.0s\n",
            "[CV] END encode_messages__binary=True, encode_messages__top=1000, knn_clf__algorithm=auto, knn_clf__n_neighbors=5, knn_clf__weights=distance; total time=  19.0s\n",
            "[CV] END encode_messages__binary=True, encode_messages__top=1000, knn_clf__algorithm=auto, knn_clf__n_neighbors=5, knn_clf__weights=distance; total time=  17.8s\n",
            "[CV] END encode_messages__binary=True, encode_messages__top=1000, knn_clf__algorithm=auto, knn_clf__n_neighbors=5, knn_clf__weights=distance; total time=  18.0s\n",
            "[CV] END encode_messages__binary=True, encode_messages__top=1000, knn_clf__algorithm=auto, knn_clf__n_neighbors=5, knn_clf__weights=distance; total time=  17.7s\n",
            "[CV] END encode_messages__binary=True, encode_messages__top=1000, knn_clf__algorithm=auto, knn_clf__n_neighbors=10, knn_clf__weights=distance; total time=  17.9s\n",
            "[CV] END encode_messages__binary=True, encode_messages__top=1000, knn_clf__algorithm=auto, knn_clf__n_neighbors=10, knn_clf__weights=distance; total time=  17.9s\n",
            "[CV] END encode_messages__binary=True, encode_messages__top=1000, knn_clf__algorithm=auto, knn_clf__n_neighbors=10, knn_clf__weights=distance; total time=  17.0s\n",
            "[CV] END encode_messages__binary=True, encode_messages__top=1000, knn_clf__algorithm=auto, knn_clf__n_neighbors=10, knn_clf__weights=distance; total time=  17.8s\n",
            "[CV] END encode_messages__binary=True, encode_messages__top=1000, knn_clf__algorithm=auto, knn_clf__n_neighbors=10, knn_clf__weights=distance; total time=  16.8s\n",
            "[CV] END encode_messages__binary=False, encode_messages__top=500, knn_clf__algorithm=auto, knn_clf__n_neighbors=2, knn_clf__weights=distance; total time=  10.3s\n",
            "[CV] END encode_messages__binary=False, encode_messages__top=500, knn_clf__algorithm=auto, knn_clf__n_neighbors=2, knn_clf__weights=distance; total time=  10.4s\n",
            "[CV] END encode_messages__binary=False, encode_messages__top=500, knn_clf__algorithm=auto, knn_clf__n_neighbors=2, knn_clf__weights=distance; total time=  10.4s\n",
            "[CV] END encode_messages__binary=False, encode_messages__top=500, knn_clf__algorithm=auto, knn_clf__n_neighbors=2, knn_clf__weights=distance; total time=  10.1s\n",
            "[CV] END encode_messages__binary=False, encode_messages__top=500, knn_clf__algorithm=auto, knn_clf__n_neighbors=2, knn_clf__weights=distance; total time=  10.0s\n",
            "[CV] END encode_messages__binary=False, encode_messages__top=500, knn_clf__algorithm=auto, knn_clf__n_neighbors=5, knn_clf__weights=distance; total time=  10.2s\n",
            "[CV] END encode_messages__binary=False, encode_messages__top=500, knn_clf__algorithm=auto, knn_clf__n_neighbors=5, knn_clf__weights=distance; total time=  10.3s\n",
            "[CV] END encode_messages__binary=False, encode_messages__top=500, knn_clf__algorithm=auto, knn_clf__n_neighbors=5, knn_clf__weights=distance; total time=  10.4s\n",
            "[CV] END encode_messages__binary=False, encode_messages__top=500, knn_clf__algorithm=auto, knn_clf__n_neighbors=5, knn_clf__weights=distance; total time=  10.5s\n",
            "[CV] END encode_messages__binary=False, encode_messages__top=500, knn_clf__algorithm=auto, knn_clf__n_neighbors=5, knn_clf__weights=distance; total time=  10.4s\n",
            "[CV] END encode_messages__binary=False, encode_messages__top=500, knn_clf__algorithm=auto, knn_clf__n_neighbors=10, knn_clf__weights=distance; total time=  10.3s\n",
            "[CV] END encode_messages__binary=False, encode_messages__top=500, knn_clf__algorithm=auto, knn_clf__n_neighbors=10, knn_clf__weights=distance; total time=  10.3s\n",
            "[CV] END encode_messages__binary=False, encode_messages__top=500, knn_clf__algorithm=auto, knn_clf__n_neighbors=10, knn_clf__weights=distance; total time=  10.3s\n",
            "[CV] END encode_messages__binary=False, encode_messages__top=500, knn_clf__algorithm=auto, knn_clf__n_neighbors=10, knn_clf__weights=distance; total time=  10.3s\n",
            "[CV] END encode_messages__binary=False, encode_messages__top=500, knn_clf__algorithm=auto, knn_clf__n_neighbors=10, knn_clf__weights=distance; total time=  10.4s\n",
            "[CV] END encode_messages__binary=False, encode_messages__top=1000, knn_clf__algorithm=auto, knn_clf__n_neighbors=2, knn_clf__weights=distance; total time=  21.2s\n",
            "[CV] END encode_messages__binary=False, encode_messages__top=1000, knn_clf__algorithm=auto, knn_clf__n_neighbors=2, knn_clf__weights=distance; total time=  17.4s\n",
            "[CV] END encode_messages__binary=False, encode_messages__top=1000, knn_clf__algorithm=auto, knn_clf__n_neighbors=2, knn_clf__weights=distance; total time=  18.1s\n",
            "[CV] END encode_messages__binary=False, encode_messages__top=1000, knn_clf__algorithm=auto, knn_clf__n_neighbors=2, knn_clf__weights=distance; total time=  16.6s\n",
            "[CV] END encode_messages__binary=False, encode_messages__top=1000, knn_clf__algorithm=auto, knn_clf__n_neighbors=2, knn_clf__weights=distance; total time=  17.5s\n",
            "[CV] END encode_messages__binary=False, encode_messages__top=1000, knn_clf__algorithm=auto, knn_clf__n_neighbors=5, knn_clf__weights=distance; total time=  17.4s\n",
            "[CV] END encode_messages__binary=False, encode_messages__top=1000, knn_clf__algorithm=auto, knn_clf__n_neighbors=5, knn_clf__weights=distance; total time=  17.4s\n",
            "[CV] END encode_messages__binary=False, encode_messages__top=1000, knn_clf__algorithm=auto, knn_clf__n_neighbors=5, knn_clf__weights=distance; total time=  18.2s\n",
            "[CV] END encode_messages__binary=False, encode_messages__top=1000, knn_clf__algorithm=auto, knn_clf__n_neighbors=5, knn_clf__weights=distance; total time=  18.0s\n",
            "[CV] END encode_messages__binary=False, encode_messages__top=1000, knn_clf__algorithm=auto, knn_clf__n_neighbors=5, knn_clf__weights=distance; total time=  18.4s\n",
            "[CV] END encode_messages__binary=False, encode_messages__top=1000, knn_clf__algorithm=auto, knn_clf__n_neighbors=10, knn_clf__weights=distance; total time=  20.7s\n",
            "[CV] END encode_messages__binary=False, encode_messages__top=1000, knn_clf__algorithm=auto, knn_clf__n_neighbors=10, knn_clf__weights=distance; total time=  18.2s\n",
            "[CV] END encode_messages__binary=False, encode_messages__top=1000, knn_clf__algorithm=auto, knn_clf__n_neighbors=10, knn_clf__weights=distance; total time=  17.5s\n",
            "[CV] END encode_messages__binary=False, encode_messages__top=1000, knn_clf__algorithm=auto, knn_clf__n_neighbors=10, knn_clf__weights=distance; total time=  18.5s\n",
            "[CV] END encode_messages__binary=False, encode_messages__top=1000, knn_clf__algorithm=auto, knn_clf__n_neighbors=10, knn_clf__weights=distance; total time=  17.7s\n"
          ]
        },
        {
          "output_type": "execute_result",
          "data": {
            "text/plain": [
              "GridSearchCV(cv=5,\n",
              "             estimator=Pipeline(steps=[('encode_messages', MessageEncoder()),\n",
              "                                       ('knn_clf', KNeighborsClassifier())]),\n",
              "             n_jobs=1,\n",
              "             param_grid=[{'encode_messages__binary': [True, False],\n",
              "                          'encode_messages__top': [500, 1000],\n",
              "                          'knn_clf__algorithm': ['auto'],\n",
              "                          'knn_clf__n_neighbors': [2, 5, 10],\n",
              "                          'knn_clf__weights': ['distance']}],\n",
              "             scoring='recall', verbose=2)"
            ]
          },
          "metadata": {},
          "execution_count": 35
        }
      ]
    },
    {
      "cell_type": "markdown",
      "source": [
        "# Prediction"
      ],
      "metadata": {
        "id": "SGzi1YCgzsJO"
      }
    },
    {
      "cell_type": "code",
      "source": [
        "labels_test_pred = pipe_search.best_estimator_.predict(emails_test)\n",
        "print(classification_report(labels_test,\n",
        "                            labels_pred,\n",
        "                            target_names=['ham', 'spam'],\n",
        "                            digits=4))"
      ],
      "metadata": {
        "id": "OuyDt-uhB4CA",
        "colab": {
          "base_uri": "https://localhost:8080/"
        },
        "outputId": "c1bd48b2-b6ce-435c-c46f-e96c7d8bfbc9"
      },
      "execution_count": 36,
      "outputs": [
        {
          "output_type": "stream",
          "name": "stdout",
          "text": [
            "              precision    recall  f1-score   support\n",
            "\n",
            "         ham     0.9806    0.9902    0.9854       511\n",
            "        spam     0.9474    0.9000    0.9231       100\n",
            "\n",
            "    accuracy                         0.9755       611\n",
            "   macro avg     0.9640    0.9451    0.9542       611\n",
            "weighted avg     0.9752    0.9755    0.9752       611\n",
            "\n"
          ]
        }
      ]
    },
    {
      "cell_type": "markdown",
      "source": [
        "# Exporting Trained Model "
      ],
      "metadata": {
        "id": "lQd9o_zSzxp_"
      }
    },
    {
      "cell_type": "code",
      "source": [
        "import joblib\n",
        "joblib.dump(pipe_search, 'model_file_name.pkl')"
      ],
      "metadata": {
        "id": "ztNti0DDQ1Lb",
        "colab": {
          "base_uri": "https://localhost:8080/"
        },
        "outputId": "eeb884e8-3d35-47e4-f2ce-1c408418f855"
      },
      "execution_count": 37,
      "outputs": [
        {
          "output_type": "execute_result",
          "data": {
            "text/plain": [
              "['model_file_name.pkl']"
            ]
          },
          "metadata": {},
          "execution_count": 37
        }
      ]
    },
    {
      "cell_type": "code",
      "source": [
        "from google.colab import files\n",
        "files.download(\"model_file_name.pkl\")"
      ],
      "metadata": {
        "id": "_UrHw5GtRVJC",
        "colab": {
          "base_uri": "https://localhost:8080/",
          "height": 17
        },
        "outputId": "e7b703b5-ad72-4c91-c23f-69edc17006c1"
      },
      "execution_count": 38,
      "outputs": [
        {
          "output_type": "display_data",
          "data": {
            "text/plain": [
              "<IPython.core.display.Javascript object>"
            ],
            "application/javascript": [
              "\n",
              "    async function download(id, filename, size) {\n",
              "      if (!google.colab.kernel.accessAllowed) {\n",
              "        return;\n",
              "      }\n",
              "      const div = document.createElement('div');\n",
              "      const label = document.createElement('label');\n",
              "      label.textContent = `Downloading \"${filename}\": `;\n",
              "      div.appendChild(label);\n",
              "      const progress = document.createElement('progress');\n",
              "      progress.max = size;\n",
              "      div.appendChild(progress);\n",
              "      document.body.appendChild(div);\n",
              "\n",
              "      const buffers = [];\n",
              "      let downloaded = 0;\n",
              "\n",
              "      const channel = await google.colab.kernel.comms.open(id);\n",
              "      // Send a message to notify the kernel that we're ready.\n",
              "      channel.send({})\n",
              "\n",
              "      for await (const message of channel.messages) {\n",
              "        // Send a message to notify the kernel that we're ready.\n",
              "        channel.send({})\n",
              "        if (message.buffers) {\n",
              "          for (const buffer of message.buffers) {\n",
              "            buffers.push(buffer);\n",
              "            downloaded += buffer.byteLength;\n",
              "            progress.value = downloaded;\n",
              "          }\n",
              "        }\n",
              "      }\n",
              "      const blob = new Blob(buffers, {type: 'application/binary'});\n",
              "      const a = document.createElement('a');\n",
              "      a.href = window.URL.createObjectURL(blob);\n",
              "      a.download = filename;\n",
              "      div.appendChild(a);\n",
              "      a.click();\n",
              "      div.remove();\n",
              "    }\n",
              "  "
            ]
          },
          "metadata": {}
        },
        {
          "output_type": "display_data",
          "data": {
            "text/plain": [
              "<IPython.core.display.Javascript object>"
            ],
            "application/javascript": [
              "download(\"download_8c748120-4e5a-4c85-a96e-5e94b463b789\", \"model_file_name.pkl\", 19608451)"
            ]
          },
          "metadata": {}
        }
      ]
    }
  ]
}